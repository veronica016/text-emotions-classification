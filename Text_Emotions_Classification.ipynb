{
  "nbformat": 4,
  "nbformat_minor": 0,
  "metadata": {
    "colab": {
      "provenance": [],
      "gpuType": "T4",
      "authorship_tag": "ABX9TyMM/ToOGSzRLMuxqZaSdLSo",
      "include_colab_link": true
    },
    "kernelspec": {
      "name": "python3",
      "display_name": "Python 3"
    },
    "language_info": {
      "name": "python"
    },
    "accelerator": "GPU"
  },
  "cells": [
    {
      "cell_type": "markdown",
      "metadata": {
        "id": "view-in-github",
        "colab_type": "text"
      },
      "source": [
        "<a href=\"https://colab.research.google.com/github/veronica016/text-emotions-classification/blob/main/Text_Emotions_Classification.ipynb\" target=\"_parent\"><img src=\"https://colab.research.google.com/assets/colab-badge.svg\" alt=\"Open In Colab\"/></a>"
      ]
    },
    {
      "cell_type": "code",
      "execution_count": null,
      "metadata": {
        "colab": {
          "base_uri": "https://localhost:8080/"
        },
        "id": "9mL4DNX9ciwt",
        "outputId": "de6bb2d5-9bd0-4d1b-b217-3b478282a698"
      },
      "outputs": [
        {
          "output_type": "stream",
          "name": "stdout",
          "text": [
            "                                                Text Emotions\n",
            "0  i can go from feeling so hopeless to so damned...  sadness\n",
            "1   im grabbing a minute to post i feel greedy wrong    anger\n",
            "2  i am ever feeling nostalgic about the fireplac...     love\n",
            "3                               i am feeling grouchy    anger\n",
            "4  ive been feeling a little burdened lately wasn...  sadness\n"
          ]
        }
      ],
      "source": [
        "import pandas as pd\n",
        "import numpy as np\n",
        "import keras\n",
        "import tensorflow\n",
        "from keras.preprocessing.text import Tokenizer\n",
        "from tensorflow.keras.preprocessing.sequence import pad_sequences\n",
        "from sklearn.preprocessing import LabelEncoder\n",
        "from sklearn.model_selection import train_test_split\n",
        "from keras.models import Sequential\n",
        "from keras.layers import Embedding, Flatten, Dense\n",
        "\n",
        "\n",
        "data = pd.read_csv(\"train.txt\", sep=';')\n",
        "data.columns = [\"Text\", \"Emotions\"]\n",
        "print(data.head())"
      ]
    },
    {
      "cell_type": "code",
      "source": [
        "texts = data[\"Text\"].tolist()\n",
        "labels = data[\"Emotions\"].tolist()\n",
        "\n",
        "# Tokenize the text data\n",
        "tokenizer = Tokenizer()\n",
        "tokenizer.fit_on_texts(texts)"
      ],
      "metadata": {
        "id": "i2coc4FLdMMA"
      },
      "execution_count": null,
      "outputs": []
    },
    {
      "cell_type": "code",
      "source": [
        "sequences = tokenizer.texts_to_sequences(texts)\n",
        "max_length = max([len(seq) for seq in sequences])\n",
        "padded_sequences = pad_sequences(sequences, maxlen=max_length)"
      ],
      "metadata": {
        "id": "6RUNakSCdSFg"
      },
      "execution_count": null,
      "outputs": []
    },
    {
      "cell_type": "code",
      "source": [
        "# Encode the string labels to integers\n",
        "label_encoder = LabelEncoder()\n",
        "labels = label_encoder.fit_transform(labels)"
      ],
      "metadata": {
        "id": "DxGYO98PdXqR"
      },
      "execution_count": null,
      "outputs": []
    },
    {
      "cell_type": "code",
      "source": [
        "# One-hot encode the labels\n",
        "one_hot_labels = keras.utils.to_categorical(labels)"
      ],
      "metadata": {
        "id": "ghhiSJexdc3n"
      },
      "execution_count": null,
      "outputs": []
    },
    {
      "cell_type": "code",
      "source": [
        "# Split the data into training and testing sets\n",
        "xtrain, xtest, ytrain, ytest = train_test_split(padded_sequences,\n",
        "                                                one_hot_labels,\n",
        "                                                test_size=0.2)"
      ],
      "metadata": {
        "id": "bsUiCm98div5"
      },
      "execution_count": null,
      "outputs": []
    },
    {
      "cell_type": "code",
      "source": [
        "# Define the model\n",
        "model = Sequential()\n",
        "model.add(Embedding(input_dim=len(tokenizer.word_index) + 1,\n",
        "                    output_dim=128, input_length=max_length))\n",
        "model.add(Flatten())\n",
        "model.add(Dense(units=128, activation=\"relu\"))\n",
        "model.add(Dense(units=len(one_hot_labels[0]), activation=\"softmax\"))\n",
        "\n",
        "model.compile(optimizer=\"adam\", loss=\"categorical_crossentropy\", metrics=[\"accuracy\"])\n",
        "model.fit(xtrain, ytrain, epochs=10, batch_size=32, validation_data=(xtest, ytest))"
      ],
      "metadata": {
        "colab": {
          "base_uri": "https://localhost:8080/"
        },
        "id": "EqYFd_Rqdmpp",
        "outputId": "e2399c85-cbb9-45f6-c92f-f2fe744e8cc0"
      },
      "execution_count": null,
      "outputs": [
        {
          "output_type": "stream",
          "name": "stdout",
          "text": [
            "Epoch 1/10\n",
            "400/400 [==============================] - 35s 75ms/step - loss: 1.3381 - accuracy: 0.4862 - val_loss: 0.7840 - val_accuracy: 0.7353\n",
            "Epoch 2/10\n",
            "400/400 [==============================] - 7s 16ms/step - loss: 0.3151 - accuracy: 0.9005 - val_loss: 0.4912 - val_accuracy: 0.8347\n",
            "Epoch 3/10\n",
            "400/400 [==============================] - 5s 13ms/step - loss: 0.0562 - accuracy: 0.9862 - val_loss: 0.5323 - val_accuracy: 0.8350\n",
            "Epoch 4/10\n",
            "400/400 [==============================] - 4s 9ms/step - loss: 0.0302 - accuracy: 0.9934 - val_loss: 0.5425 - val_accuracy: 0.8291\n",
            "Epoch 5/10\n",
            "400/400 [==============================] - 3s 8ms/step - loss: 0.0192 - accuracy: 0.9959 - val_loss: 0.5767 - val_accuracy: 0.8325\n",
            "Epoch 6/10\n",
            "400/400 [==============================] - 3s 7ms/step - loss: 0.0155 - accuracy: 0.9966 - val_loss: 0.6152 - val_accuracy: 0.8281\n",
            "Epoch 7/10\n",
            "400/400 [==============================] - 3s 7ms/step - loss: 0.0152 - accuracy: 0.9964 - val_loss: 0.6525 - val_accuracy: 0.8284\n",
            "Epoch 8/10\n",
            "400/400 [==============================] - 2s 5ms/step - loss: 0.0141 - accuracy: 0.9967 - val_loss: 0.6571 - val_accuracy: 0.8272\n",
            "Epoch 9/10\n",
            "400/400 [==============================] - 2s 5ms/step - loss: 0.0135 - accuracy: 0.9965 - val_loss: 0.6493 - val_accuracy: 0.8259\n",
            "Epoch 10/10\n",
            "400/400 [==============================] - 2s 5ms/step - loss: 0.0123 - accuracy: 0.9966 - val_loss: 0.6875 - val_accuracy: 0.8256\n"
          ]
        },
        {
          "output_type": "execute_result",
          "data": {
            "text/plain": [
              "<keras.callbacks.History at 0x7f303c321720>"
            ]
          },
          "metadata": {},
          "execution_count": 7
        }
      ]
    },
    {
      "cell_type": "code",
      "source": [
        "input_text = \"She didn't come today because she lost her dog yestertay!\"\n",
        "\n",
        "# Preprocess the input text\n",
        "input_sequence = tokenizer.texts_to_sequences([input_text])\n",
        "padded_input_sequence = pad_sequences(input_sequence, maxlen=max_length)\n",
        "prediction = model.predict(padded_input_sequence)\n",
        "predicted_label = label_encoder.inverse_transform([np.argmax(prediction[0])])\n",
        "print(predicted_label)"
      ],
      "metadata": {
        "colab": {
          "base_uri": "https://localhost:8080/"
        },
        "id": "Gnzr4j-tdwJm",
        "outputId": "bcde18b5-1ff3-4223-b571-b10f23a0233c"
      },
      "execution_count": null,
      "outputs": [
        {
          "output_type": "stream",
          "name": "stdout",
          "text": [
            "1/1 [==============================] - 0s 115ms/step\n",
            "['sadness']\n"
          ]
        }
      ]
    }
  ]
}